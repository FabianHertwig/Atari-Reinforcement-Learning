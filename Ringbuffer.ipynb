{
 "cells": [
  {
   "cell_type": "code",
   "execution_count": 3,
   "metadata": {},
   "outputs": [],
   "source": [
    "import numpy as np"
   ]
  },
  {
   "cell_type": "code",
   "execution_count": 12,
   "metadata": {},
   "outputs": [],
   "source": [
    "class RingBuf:\n",
    "    def __init__(self, size):\n",
    "        # Pro-tip: when implementing a ring buffer, always allocate one extra element,\n",
    "        # this way, self.start == self.end always means the buffer is EMPTY, whereas\n",
    "        # if you allocate exactly the right number of elements, it could also mean\n",
    "        # the buffer is full. This greatly simplifies the rest of the code.\n",
    "        self.data = [None] * (size + 1)\n",
    "        self.start = 0\n",
    "        self.end = 0\n",
    "        self.is_full = False\n",
    "        \n",
    "    def append(self, element):\n",
    "        self.data[self.end] = element\n",
    "        self.end = (self.end + 1) % len(self.data)\n",
    "        # end == start and yet we just added one element. This means the buffer has one\n",
    "        # too many element. Remove the first element by incrementing start.\n",
    "        if self.end == self.start:\n",
    "            self.start = (self.start + 1) % len(self.data)\n",
    "            self.is_full = True\n",
    "            \n",
    "    def add(self, state, action, new_frame, reward, is_done):\n",
    "        self.append((state, action, new_frame, reward, is_done))\n",
    "\n",
    "    def sample_batch(self, length):\n",
    "        \"\"\"\n",
    "        Returns states_batch, action_batch, next_states_batch, reward_batch, done_batch\n",
    "        \"\"\"\n",
    "        if length > len(self):\n",
    "            samples =  self.data\n",
    "        if self.is_full:\n",
    "            indices = np.random.randint(0, len(self.data), length)\n",
    "            samples =  [self.data[i] for i in indices]\n",
    "        else:\n",
    "            indices = np.random.randint(self.start, self.end, length)\n",
    "            samples =  [self.data[i] for i in indices]\n",
    "        return map(np.array, zip(*samples))\n",
    "            \n",
    "        \n",
    "    def __getitem__(self, idx):\n",
    "        return self.data[(self.start + idx) % len(self.data)]\n",
    "    \n",
    "    def __len__(self):\n",
    "        if self.end < self.start:\n",
    "            return self.end + len(self.data) - self.start\n",
    "        else:\n",
    "            return self.end - self.start\n",
    "        \n",
    "    def __iter__(self):\n",
    "        for i in range(len(self)):\n",
    "            yield self[i]"
   ]
  },
  {
   "cell_type": "code",
   "execution_count": 13,
   "metadata": {},
   "outputs": [],
   "source": [
    "test = RingBuf(100000)\n",
    "for i in range(120000):\n",
    "    test.append((np.array([i, i + 1, i + 2, i + 3]), \"asd\"))"
   ]
  },
  {
   "cell_type": "code",
   "execution_count": 14,
   "metadata": {},
   "outputs": [
    {
     "data": {
      "text/plain": [
       "(array([[ 56654,  56655,  56656,  56657],\n",
       "        [ 29560,  29561,  29562,  29563],\n",
       "        [ 96534,  96535,  96536,  96537],\n",
       "        [ 78087,  78088,  78089,  78090],\n",
       "        [ 81222,  81223,  81224,  81225],\n",
       "        [110131, 110132, 110133, 110134],\n",
       "        [ 20638,  20639,  20640,  20641],\n",
       "        [ 63420,  63421,  63422,  63423],\n",
       "        [ 49345,  49346,  49347,  49348],\n",
       "        [118230, 118231, 118232, 118233],\n",
       "        [ 24001,  24002,  24003,  24004],\n",
       "        [ 75161,  75162,  75163,  75164],\n",
       "        [ 52051,  52052,  52053,  52054],\n",
       "        [ 66334,  66335,  66336,  66337],\n",
       "        [ 68050,  68051,  68052,  68053],\n",
       "        [101528, 101529, 101530, 101531],\n",
       "        [101883, 101884, 101885, 101886],\n",
       "        [ 50465,  50466,  50467,  50468],\n",
       "        [ 35407,  35408,  35409,  35410],\n",
       "        [ 88834,  88835,  88836,  88837],\n",
       "        [ 71481,  71482,  71483,  71484],\n",
       "        [117099, 117100, 117101, 117102],\n",
       "        [ 91874,  91875,  91876,  91877],\n",
       "        [ 31140,  31141,  31142,  31143],\n",
       "        [ 98597,  98598,  98599,  98600],\n",
       "        [117213, 117214, 117215, 117216],\n",
       "        [ 51620,  51621,  51622,  51623],\n",
       "        [117172, 117173, 117174, 117175],\n",
       "        [ 69167,  69168,  69169,  69170],\n",
       "        [ 44484,  44485,  44486,  44487],\n",
       "        [ 51966,  51967,  51968,  51969],\n",
       "        [ 68759,  68760,  68761,  68762]]),\n",
       " array(['asd', 'asd', 'asd', 'asd', 'asd', 'asd', 'asd', 'asd', 'asd',\n",
       "        'asd', 'asd', 'asd', 'asd', 'asd', 'asd', 'asd', 'asd', 'asd',\n",
       "        'asd', 'asd', 'asd', 'asd', 'asd', 'asd', 'asd', 'asd', 'asd',\n",
       "        'asd', 'asd', 'asd', 'asd', 'asd'], dtype='<U3'))"
      ]
     },
     "execution_count": 14,
     "metadata": {},
     "output_type": "execute_result"
    }
   ],
   "source": [
    "i, i2 = test.sample_batch(32)\n",
    "i, i2\n"
   ]
  },
  {
   "cell_type": "code",
   "execution_count": 15,
   "metadata": {},
   "outputs": [],
   "source": [
    "del test, i ,i2"
   ]
  }
 ],
 "metadata": {
  "kernelspec": {
   "display_name": "Python 3",
   "language": "python",
   "name": "python3"
  },
  "language_info": {
   "codemirror_mode": {
    "name": "ipython",
    "version": 3
   },
   "file_extension": ".py",
   "mimetype": "text/x-python",
   "name": "python",
   "nbconvert_exporter": "python",
   "pygments_lexer": "ipython3",
   "version": "3.5.4"
  }
 },
 "nbformat": 4,
 "nbformat_minor": 2
}
